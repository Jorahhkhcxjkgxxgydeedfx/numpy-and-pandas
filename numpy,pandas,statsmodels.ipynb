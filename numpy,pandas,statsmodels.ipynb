{
 "cells": [
  {
   "cell_type": "code",
   "execution_count": 46,
   "id": "9831c94c-371b-412a-9ae6-824c03998c8b",
   "metadata": {},
   "outputs": [
    {
     "name": "stdout",
     "output_type": "stream",
     "text": [
      "Requirement already satisfied: numpy in c:\\users\\walton\\anaconda3\\lib\\site-packages (1.26.4)\n"
     ]
    }
   ],
   "source": [
    "!pip install numpy"
   ]
  },
  {
   "cell_type": "code",
   "execution_count": 48,
   "id": "59e67890-7774-4417-98ed-78756c01b92c",
   "metadata": {},
   "outputs": [],
   "source": [
    "import numpy as np"
   ]
  },
  {
   "cell_type": "code",
   "execution_count": 53,
   "id": "1300017e-6051-4ca1-b557-d385e7966db3",
   "metadata": {},
   "outputs": [
    {
     "name": "stdout",
     "output_type": "stream",
     "text": [
      "[ 23 222  34  23  90  78  88]\n"
     ]
    }
   ],
   "source": [
    "#1d array, for single row or column of elemenets,,  \n",
    "#vectors, sequences, or lists of values.\n",
    "arr_1d = np.array([23,222,34,23,90,78,88])\n",
    "print(arr_1d)\n",
    "\n",
    "\n",
    "\n"
   ]
  },
  {
   "cell_type": "code",
   "execution_count": 57,
   "id": "c879fe42-8b76-469f-aee1-2b8f8269486a",
   "metadata": {},
   "outputs": [
    {
     "name": "stdout",
     "output_type": "stream",
     "text": [
      "[[  2   4  66]\n",
      " [  2 444  65]\n",
      " [ 23  33   4]]\n"
     ]
    }
   ],
   "source": [
    "#:2d array\n",
    "#A grid or matrix structure with rows and columns.\n",
    "# tables, matrices, or image pixel grids.\n",
    "arr_2d = np.array([[2,4,66] ,[2,444,65],[23,33,4]])\n",
    "print ( arr_2d)"
   ]
  },
  {
   "cell_type": "code",
   "execution_count": 61,
   "id": "b78a8e6f-b9ec-4f56-8df0-9e8dd0ab1b1c",
   "metadata": {},
   "outputs": [
    {
     "name": "stdout",
     "output_type": "stream",
     "text": [
      "[[[ 1  2]\n",
      "  [ 3  4]\n",
      "  [ 3  4]\n",
      "  [33  4]]]\n"
     ]
    }
   ],
   "source": [
    "# 3d arrays\n",
    "\n",
    "#A multi-layered array, where each layer is a 2D matrix.\n",
    "\n",
    "#volumetric data, RGB images, or tensors in machine learning.\n",
    "arr_3d = np.array([[[1,2], [3,4],[3,4],[33,4]]])\n",
    "print(arr_3d)"
   ]
  },
  {
   "cell_type": "code",
   "execution_count": 63,
   "id": "02dddc29-f9e8-4cfe-bda5-7805c4b14188",
   "metadata": {},
   "outputs": [
    {
     "name": "stdout",
     "output_type": "stream",
     "text": [
      "(2, 3, 4, 6, 7)\n"
     ]
    }
   ],
   "source": [
    "#higher dimensional arrays , nd arrays \n",
    "#Arrays with more than three dimensions. NumPy can handle arrays with any number of dimensions (e.g., 4D, 5D).\n",
    "\n",
    "#advanced machine learning, data science, and simulations.\n",
    "\n",
    "arr_4d = np.random.rand (2,3,4,6,7)\n",
    "print(arr_4d.shape)"
   ]
  },
  {
   "cell_type": "code",
   "execution_count": 73,
   "id": "ac4b1ce8-6232-4005-8db6-38cb3c3109c7",
   "metadata": {},
   "outputs": [
    {
     "name": "stdout",
     "output_type": "stream",
     "text": [
      "[array([1, 2, 3]) array([3, 4, 7, 8])]\n"
     ]
    }
   ],
   "source": [
    "# ragged array\n",
    "# an array with variying length that\n",
    "#can not be struckered into a recangular format\n",
    "#doesnt have a consistent dimension\n",
    "\n",
    "ragged = np.array([np.array([1,2,3]) , np.array([3,4,7,8])], dtype=object)\n",
    "print (ragged)\n"
   ]
  },
  {
   "cell_type": "code",
   "execution_count": 75,
   "id": "5270bc05-0f4a-4f6a-a602-e46fe40a9c76",
   "metadata": {},
   "outputs": [
    {
     "name": "stdout",
     "output_type": "stream",
     "text": [
      "42\n"
     ]
    }
   ],
   "source": [
    "# 0d array, represents a single value, scalar\n",
    "# zero dimensional array\n",
    "\n",
    "scalar = np.array(42)\n",
    "print(scalar)"
   ]
  },
  {
   "cell_type": "code",
   "execution_count": 83,
   "id": "978bd7ae-e19c-4823-870d-1bc6bf1b199d",
   "metadata": {},
   "outputs": [
    {
     "name": "stdout",
     "output_type": "stream",
     "text": [
      "[(1, 'athena', 33.9) (2, 'tora', 25.7)]\n"
     ]
    }
   ],
   "source": [
    "# structured array\n",
    "#An array with different data types for different fields\n",
    "#in each element, similar to a table.\n",
    "# representing complex datasets \n",
    "\n",
    "structured = np .array([(1,'athena',33.9), (2, 'tora', 25.7)],\n",
    "                       dtype = [( 'id','i4') , ('name','U10'), ('score','f4')])\n",
    "print(structured)\n"
   ]
  },
  {
   "cell_type": "code",
   "execution_count": 16,
   "id": "48ce07c1-df3f-48e8-bb6f-c61ad02fa60c",
   "metadata": {},
   "outputs": [
    {
     "name": "stdout",
     "output_type": "stream",
     "text": [
      "[2 3 5 6 -- -- -- --]\n"
     ]
    }
   ],
   "source": [
    "#masked array\n",
    "# where the elements are hidden , missing data , invalid data\n",
    "import numpy as np\n",
    "import numpy.ma as ma\n",
    "data = np.array([ 2,3,5, 6 ,0,-3,-5,-8])\n",
    "masked = ma.masked_less(data,1)\n",
    "\n",
    "print(masked)"
   ]
  },
  {
   "cell_type": "code",
   "execution_count": 2,
   "id": "b9eb44b1-5449-4ef7-829b-05f9ba3aabe5",
   "metadata": {},
   "outputs": [],
   "source": [
    "#how to load a dataset\n",
    " specify the file path \n",
    "file_path=\"c:\\path\\to_file.csv\"\n",
    "#1. if the dataset is puerly numeric\n",
    "dataset = np.loadtxt(file_path, delimeter=\",\")\n",
    "print(dataset)\n",
    "\n",
    "#2. if the dataset contains missing values\n",
    "dtatset= np.genfromtxt(file_path, delimeter=\",\")\n",
    "\n",
    "#3. if dataset contains mixed datatype\n",
    "dtatype= [( 'id', 'i4'), ('name', 'U20') , ('score', 'f4')]\n",
    "dtaset= np.genfromtext(file_path, delimeter=\",\" ,\n",
    "                       dtype=dtype, encoding= \"utf-8\" , skip_header= 1)\n",
    "print(dtaset)\n"
   ]
  },
  {
   "cell_type": "code",
   "execution_count": null,
   "id": "a8826777-a0ab-4526-98be-dd8a8dc5d20e",
   "metadata": {},
   "outputs": [],
   "source": [
    "#data analysis from numpy\n",
    "import numpy as np\n",
    "\n",
    "#exploring data\n",
    "print(data.shape)     # Shape of the array (rows, columns)\n",
    "print(data.dtype)     # Data type of the elements\n",
    "print(data.ndim)      # Number of dimensions\n",
    "print(data.size)      # Total number of elements\n",
    "\n",
    "#viewing the data\n",
    "print(data[:5])       # Display the first 5 rows\n",
    "print(data[-5:])      # Display the last 5 rows\n",
    "\n",
    "#descriptive statistics \n",
    "print(np.mean(data))       # Mean\n",
    "print(np.median(data))     # Median\n",
    "print(np.std(data))        # Standard deviation\n",
    "print(np.var(data))        # Variance\n",
    "print(np.sum(data))        # Sum of all elements\n",
    "print(np.min(data))        # Minimum value\n",
    "print(np.max(data))        # Maximum value\n",
    "\n",
    "print(np.percentile(data, 25))  # 25th percentile\n",
    "print(np.percentile(data, 50))  # 50th percentile (Median)\n",
    "print(np.percentile(data, 75))  # 75th percentile\n",
    "\n",
    "# extract specific rows or columns:\n",
    "print( data[2;5]) #3rows 2 to 4\n",
    "print( data[:, 0]) #all rows , first column\n",
    "print( data[1:7,7:9]) #1to 6 rows and 7 to 8\n",
    "\n",
    "#masking and filtering \n",
    "mask = data>20 \n",
    "filtered_data=dta[mask]\n",
    "print(filtered_data)\n",
    "\n",
    "# sorting in ascending order\n",
    "sorted_data= np.sort(data)\n",
    "unique_values=np.uique(data)\n",
    "\n",
    "print(np.coerrcoef(x,y))\n",
    "\n",
    "\n"
   ]
  },
  {
   "cell_type": "code",
   "execution_count": 18,
   "id": "35c7641a-3096-4945-87a9-a903a3404c8b",
   "metadata": {},
   "outputs": [
    {
     "name": "stdout",
     "output_type": "stream",
     "text": [
      "[[1. 1.]\n",
      " [1. 1.]]\n",
      "[[ 2.5  5. ]\n",
      " [ 5.  10. ]]\n"
     ]
    }
   ],
   "source": [
    "x = np.array([1, 2, 3, 4, 5])\n",
    "y = np.array([2, 4, 6, 8, 10])\n",
    "\n",
    "print(np.corrcoef(x, y))  # Correlation coefficient\n",
    "print(np.cov(x, y))       # Covariance\n"
   ]
  },
  {
   "cell_type": "code",
   "execution_count": 20,
   "id": "fc3e9f64-b511-4f2a-93e8-4efc5b2b604a",
   "metadata": {},
   "outputs": [
    {
     "name": "stdout",
     "output_type": "stream",
     "text": [
      "Mean: 22.5\n",
      "Standard Deviation: 8.539125638299666\n",
      "Median: 22.5\n",
      "Filtered Data: [25 30 35]\n",
      "Reshaped Data:\n",
      " [[10 15 20]\n",
      " [25 30 35]]\n"
     ]
    }
   ],
   "source": [
    "import numpy as np\n",
    "\n",
    "# Load data\n",
    "data = np.array([10, 15, 20, 25, 30, 35])\n",
    "\n",
    "# Statistics\n",
    "mean = np.mean(data)\n",
    "std_dev = np.std(data)\n",
    "median = np.median(data)\n",
    "\n",
    "# Filter values greater than the mean\n",
    "filtered_data = data[data > mean]\n",
    "\n",
    "# Reshape data\n",
    "reshaped_data = data.reshape(2, 3)\n",
    "\n",
    "# Display results\n",
    "print(\"Mean:\", mean)\n",
    "print(\"Standard Deviation:\", std_dev)\n",
    "print(\"Median:\", median)\n",
    "print(\"Filtered Data:\", filtered_data)\n",
    "print(\"Reshaped Data:\\n\", reshaped_data)\n"
   ]
  },
  {
   "cell_type": "code",
   "execution_count": 22,
   "id": "b620bb23-3bc3-46a7-b7d6-3b7456817d9b",
   "metadata": {},
   "outputs": [
    {
     "name": "stdout",
     "output_type": "stream",
     "text": [
      "Requirement already satisfied: pandas in c:\\users\\walton\\anaconda3\\lib\\site-packages (2.2.2)\n",
      "Requirement already satisfied: numpy>=1.26.0 in c:\\users\\walton\\anaconda3\\lib\\site-packages (from pandas) (1.26.4)\n",
      "Requirement already satisfied: python-dateutil>=2.8.2 in c:\\users\\walton\\anaconda3\\lib\\site-packages (from pandas) (2.9.0.post0)\n",
      "Requirement already satisfied: pytz>=2020.1 in c:\\users\\walton\\anaconda3\\lib\\site-packages (from pandas) (2024.1)\n",
      "Requirement already satisfied: tzdata>=2022.7 in c:\\users\\walton\\anaconda3\\lib\\site-packages (from pandas) (2023.3)\n",
      "Requirement already satisfied: six>=1.5 in c:\\users\\walton\\anaconda3\\lib\\site-packages (from python-dateutil>=2.8.2->pandas) (1.16.0)\n"
     ]
    }
   ],
   "source": [
    "!pip install pandas"
   ]
  },
  {
   "cell_type": "code",
   "execution_count": 24,
   "id": "20089b58-191a-4472-8e4b-bf3c207a95b7",
   "metadata": {},
   "outputs": [],
   "source": [
    "import pandas as pd"
   ]
  },
  {
   "cell_type": "code",
   "execution_count": 30,
   "id": "5156e15b-7c84-4b75-a042-d8f3054235c0",
   "metadata": {},
   "outputs": [
    {
     "name": "stdout",
     "output_type": "stream",
     "text": [
      "0    10\n",
      "1    23\n",
      "2    33\n",
      "3     4\n",
      "4    43\n",
      "dtype: int64\n"
     ]
    }
   ],
   "source": [
    "#make series which is similar to 1d array\n",
    "\n",
    "s = pd.Series([10,23,33,4,43])\n",
    "print(s)"
   ]
  },
  {
   "cell_type": "code",
   "execution_count": 44,
   "id": "95a8accd-9a5b-45e0-8491-564f6a20f859",
   "metadata": {},
   "outputs": [
    {
     "name": "stdout",
     "output_type": "stream",
     "text": [
      "      name age salary\n",
      "0    alice  23     22\n",
      "1  atheana  33     33\n",
      "2     tisa  12      0\n",
      "3     tora  21     99\n",
      "name      tora\n",
      "age         21\n",
      "salary      99\n",
      "Name: 3, dtype: object\n",
      "0    22\n",
      "1    33\n",
      "2     0\n",
      "3    99\n",
      "Name: salary, dtype: object\n"
     ]
    }
   ],
   "source": [
    "#data frame 2d table , a datadrame from dictionary\n",
    "datawb={\n",
    "    'name':['alice','atheana','tisa','tora'],\n",
    "    'age' :['23','33','12','21'],\n",
    "    'salary':['22','33','0','99'],\n",
    "}\n",
    "\n",
    "df=pd.DataFrame(datawb)\n",
    "print(df)\n",
    "\n",
    "#acces rows ,2nd row\n",
    "print(df.iloc[3])\n",
    "\n",
    "#access columns \n",
    "print(df['salary'])\n",
    "\n",
    "\n",
    "    "
   ]
  },
  {
   "cell_type": "code",
   "execution_count": 50,
   "id": "3e6fae39-e3f1-4699-be4d-9e29d2b36db3",
   "metadata": {},
   "outputs": [
    {
     "name": "stdout",
     "output_type": "stream",
     "text": [
      "                                      Indicator      country  year     sex  \\\n",
      "0   Household air pollution attributable deaths      Myanmar  2019  Female   \n",
      "1   Household air pollution attributable deaths       Bhutan  2019  Female   \n",
      "2   Household air pollution attributable deaths        India  2019  Female   \n",
      "3   Household air pollution attributable deaths        Nepal  2019  Female   \n",
      "4   Household air pollution attributable deaths        India  2019  Female   \n",
      "5   Household air pollution attributable deaths     Pakistan  2019  Female   \n",
      "6   Household air pollution attributable deaths  Afghanistan  2019  Female   \n",
      "7   Household air pollution attributable deaths  Afghanistan  2019  Female   \n",
      "8   Household air pollution attributable deaths       Bhutan  2019  Female   \n",
      "9   Household air pollution attributable deaths       Bhutan  2019  Female   \n",
      "10  Household air pollution attributable deaths   Bangladesh  2019  Female   \n",
      "11  Household air pollution attributable deaths      Myanmar  2019  Female   \n",
      "12  Household air pollution attributable deaths        Nepal  2019  Female   \n",
      "13  Household air pollution attributable deaths   Bangladesh  2019  Female   \n",
      "14  Household air pollution attributable deaths        Nepal  2019  Female   \n",
      "15  Household air pollution attributable deaths     Pakistan  2019  Female   \n",
      "16  Household air pollution attributable deaths   Bangladesh  2019  Female   \n",
      "17  Household air pollution attributable deaths        Nepal  2019  Female   \n",
      "18  Household air pollution attributable deaths     Pakistan  2019  Female   \n",
      "19  Household air pollution attributable deaths      Myanmar  2019  Female   \n",
      "20  Household air pollution attributable deaths       Bhutan  2019  Female   \n",
      "21  Household air pollution attributable deaths  Afghanistan  2019  Female   \n",
      "22  Household air pollution attributable deaths  Afghanistan  2019  Female   \n",
      "23  Household air pollution attributable deaths      Myanmar  2019  Female   \n",
      "24  Household air pollution attributable deaths        India  2019  Female   \n",
      "25  Household air pollution attributable deaths       Bhutan  2019  Female   \n",
      "26  Household air pollution attributable deaths       Bhutan  2019  Female   \n",
      "27  Household air pollution attributable deaths      Myanmar  2019  Female   \n",
      "28  Household air pollution attributable deaths      Myanmar  2019  Female   \n",
      "29  Household air pollution attributable deaths   Bangladesh  2019  Female   \n",
      "30  Household air pollution attributable deaths        India  2019  Female   \n",
      "31  Household air pollution attributable deaths        Nepal  2019  Female   \n",
      "32  Household air pollution attributable deaths  Afghanistan  2019  Female   \n",
      "33  Household air pollution attributable deaths     Pakistan  2019  Female   \n",
      "34  Household air pollution attributable deaths        India  2019  Female   \n",
      "35  Household air pollution attributable deaths     Pakistan  2019  Female   \n",
      "36  Household air pollution attributable deaths   Bangladesh  2019  Female   \n",
      "37  Household air pollution attributable deaths   Bangladesh  2019  Female   \n",
      "38  Household air pollution attributable deaths        India  2019  Female   \n",
      "39  Household air pollution attributable deaths     Pakistan  2019  Female   \n",
      "40  Household air pollution attributable deaths  Afghanistan  2019  Female   \n",
      "41  Household air pollution attributable deaths        Nepal  2019  Female   \n",
      "\n",
      "                                 Disease      Value  \n",
      "0                                  Stroke   10 403   \n",
      "1                              All causes       106  \n",
      "2   Chronic obstructive pulmonary disease  119 046   \n",
      "3                              All causes   12 526   \n",
      "4                 Ischaemic heart disease  123 891   \n",
      "5      Acute lower respiratory infections   13 420   \n",
      "6                              All causes   13 546   \n",
      "7         Trachea, bronchus, lung cancers       135  \n",
      "8      Acute lower respiratory infections        15  \n",
      "9                                  Stroke        15  \n",
      "10        Trachea, bronchus, lung cancers      1518  \n",
      "11        Trachea, bronchus, lung cancers      1557  \n",
      "12     Acute lower respiratory infections      1598  \n",
      "13                Ischaemic heart disease   16 363   \n",
      "14                                 Stroke      1655  \n",
      "15                                 Stroke   17 387   \n",
      "16                                 Stroke   20 554   \n",
      "17                Ischaemic heart disease      2249  \n",
      "18                Ischaemic heart disease   24 230   \n",
      "19                             All causes   25 106   \n",
      "20                Ischaemic heart disease        29  \n",
      "21                                 Stroke      3126  \n",
      "22     Acute lower respiratory infections      3163  \n",
      "23     Acute lower respiratory infections      3464  \n",
      "24                             All causes  379 194   \n",
      "25        Trachea, bronchus, lung cancers         4  \n",
      "26  Chronic obstructive pulmonary disease        43  \n",
      "27  Chronic obstructive pulmonary disease      4438  \n",
      "28                Ischaemic heart disease      5244  \n",
      "29                             All causes   54 102   \n",
      "30                                 Stroke   60 162   \n",
      "31  Chronic obstructive pulmonary disease      6046  \n",
      "32                Ischaemic heart disease      6172  \n",
      "33                             All causes   64 930   \n",
      "34     Acute lower respiratory infections   67 650   \n",
      "35        Trachea, bronchus, lung cancers       679  \n",
      "36     Acute lower respiratory infections      7326  \n",
      "37  Chronic obstructive pulmonary disease      8341  \n",
      "38        Trachea, bronchus, lung cancers      8444  \n",
      "39  Chronic obstructive pulmonary disease      9215  \n",
      "40  Chronic obstructive pulmonary disease       951  \n",
      "41        Trachea, bronchus, lung cancers       977  \n"
     ]
    }
   ],
   "source": [
    "#loading data from various files\n",
    "df = pd.read_csv(\"C:\\\\Users\\\\WALTON\\\\OneDrive\\\\Documents\\\\data (5).csv\")\n",
    "print(df)\n"
   ]
  },
  {
   "cell_type": "code",
   "execution_count": 54,
   "id": "f301bfb2-08a6-4bc4-962a-fcd0c6e9911e",
   "metadata": {},
   "outputs": [
    {
     "name": "stdout",
     "output_type": "stream",
     "text": [
      "0         Myanmar\n",
      "1          Bhutan\n",
      "2           India\n",
      "3           Nepal\n",
      "4           India\n",
      "5        Pakistan\n",
      "6     Afghanistan\n",
      "7     Afghanistan\n",
      "8          Bhutan\n",
      "9          Bhutan\n",
      "10     Bangladesh\n",
      "11        Myanmar\n",
      "12          Nepal\n",
      "13     Bangladesh\n",
      "14          Nepal\n",
      "15       Pakistan\n",
      "16     Bangladesh\n",
      "17          Nepal\n",
      "18       Pakistan\n",
      "19        Myanmar\n",
      "20         Bhutan\n",
      "21    Afghanistan\n",
      "22    Afghanistan\n",
      "23        Myanmar\n",
      "24          India\n",
      "25         Bhutan\n",
      "26         Bhutan\n",
      "27        Myanmar\n",
      "28        Myanmar\n",
      "29     Bangladesh\n",
      "30          India\n",
      "31          Nepal\n",
      "32    Afghanistan\n",
      "33       Pakistan\n",
      "34          India\n",
      "35       Pakistan\n",
      "36     Bangladesh\n",
      "37     Bangladesh\n",
      "38          India\n",
      "39       Pakistan\n",
      "40    Afghanistan\n",
      "41          Nepal\n",
      "Name: country, dtype: object\n"
     ]
    }
   ],
   "source": [
    "#access specific columns\n",
    "print(df['country'])"
   ]
  },
  {
   "cell_type": "code",
   "execution_count": 58,
   "id": "8be800c7-687f-421a-aedd-761de09ab268",
   "metadata": {},
   "outputs": [
    {
     "name": "stdout",
     "output_type": "stream",
     "text": [
      "Indicator    Household air pollution attributable deaths\n",
      "country                                            India\n",
      "year                                                2019\n",
      "sex                                               Female\n",
      "Disease            Chronic obstructive pulmonary disease\n",
      "Value                                           119 046 \n",
      "Name: 2, dtype: object\n",
      "Indicator    Household air pollution attributable deaths\n",
      "country                                          Myanmar\n",
      "year                                                2019\n",
      "sex                                               Female\n",
      "Disease                                           Stroke\n",
      "Value                                            10 403 \n",
      "Name: 0, dtype: object\n"
     ]
    }
   ],
   "source": [
    "#access specific rows\n",
    "print(df.iloc[2])\n",
    "print(df.iloc[0])"
   ]
  },
  {
   "cell_type": "code",
   "execution_count": 66,
   "id": "97fb15e4-1674-46e7-9579-fb67a955af2a",
   "metadata": {},
   "outputs": [
    {
     "name": "stdout",
     "output_type": "stream",
     "text": [
      "Indicator    0\n",
      "country      0\n",
      "year         0\n",
      "sex          0\n",
      "Disease      0\n",
      "Value        0\n",
      "dtype: int64\n"
     ]
    }
   ],
   "source": [
    "#handeling missing values\n",
    "\n",
    "#check for missing values\n",
    "print(df.isnull().sum())\n",
    "\n",
    "#drop rows of missing values \n",
    "df= df.dropna()\n",
    "\n",
    "# fill missing values with default value\n",
    "\n",
    "\n",
    "\n"
   ]
  },
  {
   "cell_type": "code",
   "execution_count": 79,
   "id": "adb109fc-6b02-4f98-85e7-7637ac1810cc",
   "metadata": {},
   "outputs": [
    {
     "name": "stdout",
     "output_type": "stream",
     "text": [
      "Index(['Indicator', 'country', 'year', 'sex', 'Disease ', 'Value'], dtype='object')\n"
     ]
    }
   ],
   "source": [
    "# data manipulation\n",
    "\n",
    "#filtered rows whwere the values are more than 1000\n",
    "\n",
    "\n",
    "print(df.columns)\n",
    "\n"
   ]
  },
  {
   "cell_type": "code",
   "execution_count": 89,
   "id": "65dd6571-23ec-43b5-a419-a3e061fc1a72",
   "metadata": {},
   "outputs": [
    {
     "name": "stdout",
     "output_type": "stream",
     "text": [
      "                                      Indicator      country  year     sex  \\\n",
      "10  Household air pollution attributable deaths   Bangladesh  2019  Female   \n",
      "11  Household air pollution attributable deaths      Myanmar  2019  Female   \n",
      "12  Household air pollution attributable deaths        Nepal  2019  Female   \n",
      "14  Household air pollution attributable deaths        Nepal  2019  Female   \n",
      "17  Household air pollution attributable deaths        Nepal  2019  Female   \n",
      "21  Household air pollution attributable deaths  Afghanistan  2019  Female   \n",
      "22  Household air pollution attributable deaths  Afghanistan  2019  Female   \n",
      "23  Household air pollution attributable deaths      Myanmar  2019  Female   \n",
      "27  Household air pollution attributable deaths      Myanmar  2019  Female   \n",
      "28  Household air pollution attributable deaths      Myanmar  2019  Female   \n",
      "31  Household air pollution attributable deaths        Nepal  2019  Female   \n",
      "32  Household air pollution attributable deaths  Afghanistan  2019  Female   \n",
      "36  Household air pollution attributable deaths   Bangladesh  2019  Female   \n",
      "37  Household air pollution attributable deaths   Bangladesh  2019  Female   \n",
      "38  Household air pollution attributable deaths        India  2019  Female   \n",
      "39  Household air pollution attributable deaths     Pakistan  2019  Female   \n",
      "\n",
      "                                 Disease    Value  \n",
      "10        Trachea, bronchus, lung cancers  1518.0  \n",
      "11        Trachea, bronchus, lung cancers  1557.0  \n",
      "12     Acute lower respiratory infections  1598.0  \n",
      "14                                 Stroke  1655.0  \n",
      "17                Ischaemic heart disease  2249.0  \n",
      "21                                 Stroke  3126.0  \n",
      "22     Acute lower respiratory infections  3163.0  \n",
      "23     Acute lower respiratory infections  3464.0  \n",
      "27  Chronic obstructive pulmonary disease  4438.0  \n",
      "28                Ischaemic heart disease  5244.0  \n",
      "31  Chronic obstructive pulmonary disease  6046.0  \n",
      "32                Ischaemic heart disease  6172.0  \n",
      "36     Acute lower respiratory infections  7326.0  \n",
      "37  Chronic obstructive pulmonary disease  8341.0  \n",
      "38        Trachea, bronchus, lung cancers  8444.0  \n",
      "39  Chronic obstructive pulmonary disease  9215.0  \n"
     ]
    }
   ],
   "source": [
    "#convert value collumn to numeric becuae int and floats cannot be >,<\n",
    "\n",
    "df['Value']=pd.to_numeric(df['Value'],errors='coerce')\n",
    "\n",
    "#filter values\n",
    "fitered_df=df[df['Value']>1000]\n",
    "print(fitered_df)\n"
   ]
  },
  {
   "cell_type": "code",
   "execution_count": 93,
   "id": "cc1e6a7a-3e3b-46c9-b1ed-3f37231e718e",
   "metadata": {},
   "outputs": [
    {
     "name": "stdout",
     "output_type": "stream",
     "text": [
      "                                      Indicator      country  year     sex  \\\n",
      "22  Household air pollution attributable deaths  Afghanistan  2019  Female   \n",
      "21  Household air pollution attributable deaths  Afghanistan  2019  Female   \n",
      "40  Household air pollution attributable deaths  Afghanistan  2019  Female   \n",
      "6   Household air pollution attributable deaths  Afghanistan  2019  Female   \n",
      "7   Household air pollution attributable deaths  Afghanistan  2019  Female   \n",
      "32  Household air pollution attributable deaths  Afghanistan  2019  Female   \n",
      "37  Household air pollution attributable deaths   Bangladesh  2019  Female   \n",
      "29  Household air pollution attributable deaths   Bangladesh  2019  Female   \n",
      "16  Household air pollution attributable deaths   Bangladesh  2019  Female   \n",
      "10  Household air pollution attributable deaths   Bangladesh  2019  Female   \n",
      "36  Household air pollution attributable deaths   Bangladesh  2019  Female   \n",
      "13  Household air pollution attributable deaths   Bangladesh  2019  Female   \n",
      "20  Household air pollution attributable deaths       Bhutan  2019  Female   \n",
      "26  Household air pollution attributable deaths       Bhutan  2019  Female   \n",
      "25  Household air pollution attributable deaths       Bhutan  2019  Female   \n",
      "9   Household air pollution attributable deaths       Bhutan  2019  Female   \n",
      "8   Household air pollution attributable deaths       Bhutan  2019  Female   \n",
      "1   Household air pollution attributable deaths       Bhutan  2019  Female   \n",
      "30  Household air pollution attributable deaths        India  2019  Female   \n",
      "4   Household air pollution attributable deaths        India  2019  Female   \n",
      "38  Household air pollution attributable deaths        India  2019  Female   \n",
      "2   Household air pollution attributable deaths        India  2019  Female   \n",
      "24  Household air pollution attributable deaths        India  2019  Female   \n",
      "34  Household air pollution attributable deaths        India  2019  Female   \n",
      "28  Household air pollution attributable deaths      Myanmar  2019  Female   \n",
      "27  Household air pollution attributable deaths      Myanmar  2019  Female   \n",
      "0   Household air pollution attributable deaths      Myanmar  2019  Female   \n",
      "19  Household air pollution attributable deaths      Myanmar  2019  Female   \n",
      "11  Household air pollution attributable deaths      Myanmar  2019  Female   \n",
      "23  Household air pollution attributable deaths      Myanmar  2019  Female   \n",
      "17  Household air pollution attributable deaths        Nepal  2019  Female   \n",
      "31  Household air pollution attributable deaths        Nepal  2019  Female   \n",
      "14  Household air pollution attributable deaths        Nepal  2019  Female   \n",
      "12  Household air pollution attributable deaths        Nepal  2019  Female   \n",
      "3   Household air pollution attributable deaths        Nepal  2019  Female   \n",
      "41  Household air pollution attributable deaths        Nepal  2019  Female   \n",
      "18  Household air pollution attributable deaths     Pakistan  2019  Female   \n",
      "15  Household air pollution attributable deaths     Pakistan  2019  Female   \n",
      "33  Household air pollution attributable deaths     Pakistan  2019  Female   \n",
      "35  Household air pollution attributable deaths     Pakistan  2019  Female   \n",
      "5   Household air pollution attributable deaths     Pakistan  2019  Female   \n",
      "39  Household air pollution attributable deaths     Pakistan  2019  Female   \n",
      "\n",
      "                                 Disease    Value  \n",
      "22     Acute lower respiratory infections  3163.0  \n",
      "21                                 Stroke  3126.0  \n",
      "40  Chronic obstructive pulmonary disease   951.0  \n",
      "6                              All causes     NaN  \n",
      "7         Trachea, bronchus, lung cancers   135.0  \n",
      "32                Ischaemic heart disease  6172.0  \n",
      "37  Chronic obstructive pulmonary disease  8341.0  \n",
      "29                             All causes     NaN  \n",
      "16                                 Stroke     NaN  \n",
      "10        Trachea, bronchus, lung cancers  1518.0  \n",
      "36     Acute lower respiratory infections  7326.0  \n",
      "13                Ischaemic heart disease     NaN  \n",
      "20                Ischaemic heart disease    29.0  \n",
      "26  Chronic obstructive pulmonary disease    43.0  \n",
      "25        Trachea, bronchus, lung cancers     4.0  \n",
      "9                                  Stroke    15.0  \n",
      "8      Acute lower respiratory infections    15.0  \n",
      "1                              All causes   106.0  \n",
      "30                                 Stroke     NaN  \n",
      "4                 Ischaemic heart disease     NaN  \n",
      "38        Trachea, bronchus, lung cancers  8444.0  \n",
      "2   Chronic obstructive pulmonary disease     NaN  \n",
      "24                             All causes     NaN  \n",
      "34     Acute lower respiratory infections     NaN  \n",
      "28                Ischaemic heart disease  5244.0  \n",
      "27  Chronic obstructive pulmonary disease  4438.0  \n",
      "0                                  Stroke     NaN  \n",
      "19                             All causes     NaN  \n",
      "11        Trachea, bronchus, lung cancers  1557.0  \n",
      "23     Acute lower respiratory infections  3464.0  \n",
      "17                Ischaemic heart disease  2249.0  \n",
      "31  Chronic obstructive pulmonary disease  6046.0  \n",
      "14                                 Stroke  1655.0  \n",
      "12     Acute lower respiratory infections  1598.0  \n",
      "3                              All causes     NaN  \n",
      "41        Trachea, bronchus, lung cancers   977.0  \n",
      "18                Ischaemic heart disease     NaN  \n",
      "15                                 Stroke     NaN  \n",
      "33                             All causes     NaN  \n",
      "35        Trachea, bronchus, lung cancers   679.0  \n",
      "5      Acute lower respiratory infections     NaN  \n",
      "39  Chronic obstructive pulmonary disease  9215.0  \n"
     ]
    }
   ],
   "source": [
    "#sorting values \n",
    "sorted_df=df.sort_values(by='country')\n",
    "print(sorted_df)"
   ]
  },
  {
   "cell_type": "code",
   "execution_count": 106,
   "id": "dac89aff-bf25-4a59-8e47-188f7ca37e16",
   "metadata": {},
   "outputs": [
    {
     "name": "stdout",
     "output_type": "stream",
     "text": [
      "                                     Indicator  country  year     sex  \\\n",
      "0  Household air pollution attributable deaths  Myanmar  2019  Female   \n",
      "1  Household air pollution attributable deaths   Bhutan  2019  Female   \n",
      "2  Household air pollution attributable deaths    India  2019  Female   \n",
      "3  Household air pollution attributable deaths    Nepal  2019  Female   \n",
      "4  Household air pollution attributable deaths    India  2019  Female   \n",
      "\n",
      "                                Disease   Value  \n",
      "0                                 Stroke    NaN  \n",
      "1                             All causes  106.0  \n",
      "2  Chronic obstructive pulmonary disease    NaN  \n",
      "3                             All causes    NaN  \n",
      "4                Ischaemic heart disease    NaN  \n",
      "                                      Indicator      country  year     sex  \\\n",
      "37  Household air pollution attributable deaths   Bangladesh  2019  Female   \n",
      "38  Household air pollution attributable deaths        India  2019  Female   \n",
      "39  Household air pollution attributable deaths     Pakistan  2019  Female   \n",
      "40  Household air pollution attributable deaths  Afghanistan  2019  Female   \n",
      "41  Household air pollution attributable deaths        Nepal  2019  Female   \n",
      "\n",
      "                                 Disease    Value  \n",
      "37  Chronic obstructive pulmonary disease  8341.0  \n",
      "38        Trachea, bronchus, lung cancers  8444.0  \n",
      "39  Chronic obstructive pulmonary disease  9215.0  \n",
      "40  Chronic obstructive pulmonary disease   951.0  \n",
      "41        Trachea, bronchus, lung cancers   977.0  \n",
      "(42, 6)\n",
      "<class 'pandas.core.frame.DataFrame'>\n",
      "RangeIndex: 42 entries, 0 to 41\n",
      "Data columns (total 6 columns):\n",
      " #   Column     Non-Null Count  Dtype  \n",
      "---  ------     --------------  -----  \n",
      " 0   Indicator  42 non-null     object \n",
      " 1   country    42 non-null     object \n",
      " 2   year       42 non-null     int64  \n",
      " 3   sex        42 non-null     object \n",
      " 4   Disease    42 non-null     object \n",
      " 5   Value      26 non-null     float64\n",
      "dtypes: float64(1), int64(1), object(4)\n",
      "memory usage: 2.1+ KB\n",
      "None\n",
      "         year        Value\n",
      "count    42.0    26.000000\n",
      "mean   2019.0  2942.692308\n",
      "std       0.0  3002.433290\n",
      "min    2019.0     4.000000\n",
      "25%    2019.0   271.000000\n",
      "50%    2019.0  1626.500000\n",
      "75%    2019.0  5042.500000\n",
      "max    2019.0  9215.000000\n"
     ]
    }
   ],
   "source": [
    "#basic info\n",
    "\n",
    "print(df.head()) #display the frist 5 rows\n",
    "\n",
    "print(df.tail()) #dispaly the last five rows\n",
    "\n",
    "print(df.shape)  #the number of rows and collumns\n",
    "\n",
    "print(df.info())\n",
    "\n",
    "print(df.describe()) #v the descrptive statistics\n",
    "\n"
   ]
  },
  {
   "cell_type": "code",
   "execution_count": 108,
   "id": "e2b4d846-16f7-4785-b5fb-17e1e9d8d2b2",
   "metadata": {},
   "outputs": [],
   "source": [
    "#add new column \n",
    "df['another']=df['year']+2"
   ]
  },
  {
   "cell_type": "code",
   "execution_count": 120,
   "id": "a13e7503-60e8-4bfe-b807-758ad6246526",
   "metadata": {},
   "outputs": [
    {
     "name": "stdout",
     "output_type": "stream",
     "text": [
      "country\n",
      "Afghanistan    2019.0\n",
      "Bangladesh     2019.0\n",
      "Bhutan         2019.0\n",
      "India          2019.0\n",
      "Myanmar        2019.0\n",
      "Nepal          2019.0\n",
      "Pakistan       2019.0\n",
      "Name: year, dtype: float64\n"
     ]
    }
   ],
   "source": [
    "grouped = df.groupby('country')['year'].mean()\n",
    "print(grouped)"
   ]
  },
  {
   "cell_type": "code",
   "execution_count": 122,
   "id": "84622fab-140e-4d5f-956a-3936a65ee66c",
   "metadata": {},
   "outputs": [
    {
     "name": "stdout",
     "output_type": "stream",
     "text": [
      "   ID   Name  Salary\n",
      "0   1  Alice   50000\n",
      "1   2    Bob   60000\n"
     ]
    }
   ],
   "source": [
    "df1 = pd.DataFrame({\"ID\": [1, 2], \"Name\": [\"Alice\", \"Bob\"]})\n",
    "df2 = pd.DataFrame({\"ID\": [1, 2], \"Salary\": [50000, 60000]})\n",
    "\n",
    "merged_df = pd.merge(df1, df2, on=\"ID\")\n",
    "print(merged_df)\n"
   ]
  },
  {
   "cell_type": "code",
   "execution_count": 124,
   "id": "b092e849-629d-46a2-9593-58a1e065dbf5",
   "metadata": {},
   "outputs": [
    {
     "name": "stdout",
     "output_type": "stream",
     "text": [
      "      Name\n",
      "0    Alice\n",
      "1      Bob\n",
      "0  Charlie\n",
      "1    David\n"
     ]
    }
   ],
   "source": [
    "df1 = pd.DataFrame({\"Name\": [\"Alice\", \"Bob\"]})\n",
    "df2 = pd.DataFrame({\"Name\": [\"Charlie\", \"David\"]})\n",
    "\n",
    "concat_df = pd.concat([df1, df2])\n",
    "print(concat_df)\n"
   ]
  },
  {
   "cell_type": "code",
   "execution_count": 146,
   "id": "1453d83a-78ee-4542-8c7b-43abe714eee5",
   "metadata": {},
   "outputs": [
    {
     "name": "stdout",
     "output_type": "stream",
     "text": [
      "            country\n",
      "Value              \n",
      "4.0          Bhutan\n",
      "15.0         Bhutan\n",
      "29.0         Bhutan\n",
      "43.0         Bhutan\n",
      "106.0        Bhutan\n",
      "135.0   Afghanistan\n",
      "679.0      Pakistan\n",
      "951.0   Afghanistan\n",
      "977.0         Nepal\n",
      "1518.0   Bangladesh\n",
      "1557.0      Myanmar\n",
      "1598.0        Nepal\n",
      "1655.0        Nepal\n",
      "2249.0        Nepal\n",
      "3126.0  Afghanistan\n",
      "3163.0  Afghanistan\n",
      "3464.0      Myanmar\n",
      "4438.0      Myanmar\n",
      "5244.0      Myanmar\n",
      "6046.0        Nepal\n",
      "6172.0  Afghanistan\n",
      "7326.0   Bangladesh\n",
      "8341.0   Bangladesh\n",
      "8444.0        India\n",
      "9215.0     Pakistan\n"
     ]
    }
   ],
   "source": [
    "# create pivot tables for data \n",
    "piovt =df.pivot_table(values='year',index='Value',aggfunc='count')\n",
    "print(pivot)\n"
   ]
  },
  {
   "cell_type": "code",
   "execution_count": 144,
   "id": "ad361ed5-53c7-4e41-af2e-b69bd71bb6c0",
   "metadata": {},
   "outputs": [
    {
     "name": "stdout",
     "output_type": "stream",
     "text": [
      "            country\n",
      "Value              \n",
      "4.0          Bhutan\n",
      "15.0         Bhutan\n",
      "29.0         Bhutan\n",
      "43.0         Bhutan\n",
      "106.0        Bhutan\n",
      "135.0   Afghanistan\n",
      "679.0      Pakistan\n",
      "951.0   Afghanistan\n",
      "977.0         Nepal\n",
      "1518.0   Bangladesh\n",
      "1557.0      Myanmar\n",
      "1598.0        Nepal\n",
      "1655.0        Nepal\n",
      "2249.0        Nepal\n",
      "3126.0  Afghanistan\n",
      "3163.0  Afghanistan\n",
      "3464.0      Myanmar\n",
      "4438.0      Myanmar\n",
      "5244.0      Myanmar\n",
      "6046.0        Nepal\n",
      "6172.0  Afghanistan\n",
      "7326.0   Bangladesh\n",
      "8341.0   Bangladesh\n",
      "8444.0        India\n",
      "9215.0     Pakistan\n"
     ]
    }
   ],
   "source": [
    "pivot = df.pivot_table(values='country', index='Value', aggfunc='count') \n",
    "# To count occurrences\n",
    "\n",
    "pivot = df.pivot_table(values='country', index='Value', aggfunc='first')\n",
    "# To get the first value\n",
    "\n",
    "print(pivot)"
   ]
  },
  {
   "cell_type": "code",
   "execution_count": 148,
   "id": "fd321a90-ecc6-441c-be41-91bf23838f7b",
   "metadata": {},
   "outputs": [
    {
     "name": "stdout",
     "output_type": "stream",
     "text": [
      "Initialized empty Git repository in C:/Users/WALTON/.git/\n"
     ]
    },
    {
     "name": "stderr",
     "output_type": "stream",
     "text": [
      "fatal: pathspec 'your_notebook.ipynb' did not match any files\n",
      "warning: could not open directory 'Application Data/': Permission denied\n",
      "warning: could not open directory 'Cookies/': Permission denied\n",
      "warning: could not open directory 'Documents/My Music/': Permission denied\n",
      "warning: could not open directory 'Documents/My Pictures/': Permission denied\n",
      "warning: could not open directory 'Documents/My Videos/': Permission denied\n",
      "warning: could not open directory 'Intel/Logs/': Permission denied\n",
      "warning: could not open directory 'Local Settings/': Permission denied\n",
      "warning: could not open directory 'My Documents/': Permission denied\n",
      "warning: could not open directory 'NetHood/': Permission denied\n",
      "warning: could not open directory 'PrintHood/': Permission denied\n",
      "warning: could not open directory 'Recent/': Permission denied\n",
      "warning: could not open directory 'SendTo/': Permission denied\n",
      "warning: could not open directory 'Start Menu/': Permission denied\n",
      "warning: could not open directory 'Templates/': Permission denied\n"
     ]
    },
    {
     "name": "stdout",
     "output_type": "stream",
     "text": [
      "On branch master\n",
      "\n",
      "Initial commit\n",
      "\n",
      "Untracked files:\n",
      "  (use \"git add <file>...\" to include in what will be committed)\n",
      "\t.anaconda/\n",
      "\t.bash_history\n",
      "\t.conda/\n",
      "\t.condarc\n",
      "\t.continuum/\n",
      "\t.gitconfig\n",
      "\t.idlerc/\n",
      "\t.ipynb_checkpoints/\n",
      "\t.ipython/\n",
      "\t.jupyter/\n",
      "\t.lesshst\n",
      "\t.matplotlib/\n",
      "\t.virtual_documents/\n",
      "\t.vscode/\n",
      "\t3D Objects/\n",
      "\tAppData/\n",
      "\tBDPR81FL.SPS\n",
      "\tContacts/\n",
      "\tDownloads/\n",
      "\tFavorites/\n",
      "\tIntelGraphicsProfiles/\n",
      "\tLinks/\n",
      "\tMusic/\n",
      "\tNTUSER.DAT\n",
      "\tNTUSER.DAT{53b39e88-18c4-11ea-a811-000d3aa4692b}.TM.blf\n",
      "\tNTUSER.DAT{53b39e88-18c4-11ea-a811-000d3aa4692b}.TMContainer00000000000000000001.regtrans-ms\n",
      "\tNTUSER.DAT{53b39e88-18c4-11ea-a811-000d3aa4692b}.TMContainer00000000000000000002.regtrans-ms\n",
      "\tOneDrive/\n",
      "\tPycharmProjects/\n",
      "\tPythonProject/\n",
      "\tPythonProject00000/\n",
      "\tSaved Games/\n",
      "\tSearches/\n",
      "\tTracing/\n",
      "\tUntitled.ipynb\n",
      "\tUntitled1.ipynb\n",
      "\tUntitled10.ipynb\n",
      "\tUntitled11.ipynb\n",
      "\tUntitled12.ipynb\n",
      "\tUntitled13.ipynb\n",
      "\tUntitled14.ipynb\n",
      "\tUntitled15.ipynb\n",
      "\tUntitled2.ipynb\n",
      "\tUntitled3.ipynb\n",
      "\tUntitled4.ipynb\n",
      "\tUntitled5.ipynb\n",
      "\tUntitled6.ipynb\n",
      "\tUntitled7.ipynb\n",
      "\tUntitled8.ipynb\n",
      "\tUntitled9.ipynb\n",
      "\tVideos/\n",
      "\tWPS Cloud Files/\n",
      "\tanaconda3/\n",
      "\tbar_plot.png\n",
      "\tbox_plot.png\n",
      "\tcs50 python.ipynb\n",
      "\tdemographic indicator.ipynb\n",
      "\tdemographic_data.csv\n",
      "\tepa-sea-level.csv\n",
      "\tfcc-forum-pageviews.csv\n",
      "\tfuntions.ipynb\n",
      "\tinflation.ipynb\n",
      "\tline_of_best_fit_1880_2050.png\n",
      "\tline_of_best_fit_2000_2050.png\n",
      "\tline_plot.png\n",
      "\tmean variance calculator.ipynb\n",
      "\tmedical data visualizer.ipynb\n",
      "\tmedical_examination.csv\n",
      "\tmentalmentor/\n",
      "\tnames.txt\n",
      "\tntuser.dat.LOG1\n",
      "\tntuser.dat.LOG2\n",
      "\tntuser.ini\n",
      "\tnumpy,pandas,statsmodels.ipynb\n",
      "\tscatter_plot.png\n",
      "\tsea level predictor.ipynb\n",
      "\tsea level.ipynb\n",
      "\ttime series data visualizer.ipynb\n",
      "\tuntitled.py\n",
      "\tuntitled.txt\n",
      "\n",
      "nothing added to commit but untracked files present (use \"git add\" to track)\n"
     ]
    },
    {
     "name": "stderr",
     "output_type": "stream",
     "text": [
      "error: src refspec master does not match any\n",
      "error: failed to push some refs to 'https://github.com/username/my-notebook-repo.git'\n"
     ]
    }
   ],
   "source": [
    "!git init\n",
    "!git add your_notebook.ipynb\n",
    "!git commit -m \"Added notebook\"\n",
    "!git remote add origin https://github.com/username/my-notebook-repo.git\n",
    "!git push -u origin master\n"
   ]
  },
  {
   "cell_type": "code",
   "execution_count": null,
   "id": "5af323ba-e5e9-4a91-ae5b-ec78ec95a5d6",
   "metadata": {},
   "outputs": [],
   "source": []
  }
 ],
 "metadata": {
  "kernelspec": {
   "display_name": "Python 3 (ipykernel)",
   "language": "python",
   "name": "python3"
  },
  "language_info": {
   "codemirror_mode": {
    "name": "ipython",
    "version": 3
   },
   "file_extension": ".py",
   "mimetype": "text/x-python",
   "name": "python",
   "nbconvert_exporter": "python",
   "pygments_lexer": "ipython3",
   "version": "3.12.7"
  }
 },
 "nbformat": 4,
 "nbformat_minor": 5
}
